{
 "cells": [
  {
   "cell_type": "code",
   "execution_count": 14,
   "metadata": {},
   "outputs": [],
   "source": [
    "import sys\n",
    "sys.path.append(\"../regionDetection/region_detection.py\")\n",
    "# from regionDetection import region_detection"
   ]
  },
  {
   "cell_type": "code",
   "execution_count": 2,
   "metadata": {},
   "outputs": [
    {
     "ename": "NameError",
     "evalue": "name '__file__' is not defined",
     "output_type": "error",
     "traceback": [
      "\u001b[1;31m---------------------------------------------------------------------------\u001b[0m",
      "\u001b[1;31mNameError\u001b[0m                                 Traceback (most recent call last)",
      "Cell \u001b[1;32mIn[2], line 5\u001b[0m\n\u001b[0;32m      2\u001b[0m \u001b[38;5;28;01mimport\u001b[39;00m \u001b[38;5;21;01mos\u001b[39;00m\n\u001b[0;32m      4\u001b[0m \u001b[38;5;66;03m# Get the current directory of main_script.py\u001b[39;00m\n\u001b[1;32m----> 5\u001b[0m current_dir \u001b[38;5;241m=\u001b[39m os\u001b[38;5;241m.\u001b[39mpath\u001b[38;5;241m.\u001b[39mdirname(os\u001b[38;5;241m.\u001b[39mpath\u001b[38;5;241m.\u001b[39mabspath(\u001b[38;5;18;43m__file__\u001b[39;49m))\n\u001b[0;32m      7\u001b[0m \u001b[38;5;66;03m# Append the path of the sub_directory to the sys.path\u001b[39;00m\n\u001b[0;32m      8\u001b[0m sub_dir \u001b[38;5;241m=\u001b[39m os\u001b[38;5;241m.\u001b[39mpath\u001b[38;5;241m.\u001b[39mjoin(current_dir, \u001b[38;5;124m'\u001b[39m\u001b[38;5;124msub_directory\u001b[39m\u001b[38;5;124m'\u001b[39m)\n",
      "\u001b[1;31mNameError\u001b[0m: name '__file__' is not defined"
     ]
    }
   ],
   "source": [
    "import sys\n",
    "import os\n",
    "\n",
    "# Get the current directory of main_script.py\n",
    "current_dir = os.path.dirname(os.path.abspath(__file__))\n",
    "\n",
    "# Append the path of the sub_directory to the sys.path\n",
    "sub_dir = os.path.join(current_dir, 'sub_directory')\n",
    "sys.path.append(sub_dir)"
   ]
  },
  {
   "cell_type": "code",
   "execution_count": 13,
   "metadata": {},
   "outputs": [
    {
     "ename": "AttributeError",
     "evalue": "No skimage attribute imread",
     "output_type": "error",
     "traceback": [
      "\u001b[1;31m---------------------------------------------------------------------------\u001b[0m",
      "\u001b[1;31mAttributeError\u001b[0m                            Traceback (most recent call last)",
      "Cell \u001b[1;32mIn[13], line 1\u001b[0m\n\u001b[1;32m----> 1\u001b[0m cow_select\u001b[38;5;241m=\u001b[39m\u001b[43mio\u001b[49m\u001b[38;5;241;43m.\u001b[39;49m\u001b[43mimread\u001b[49m(\u001b[38;5;124m'\u001b[39m\u001b[38;5;124mimages-to-be-tested/cow_with_selection.png\u001b[39m\u001b[38;5;124m'\u001b[39m)\n\u001b[0;32m      2\u001b[0m cow_orig\u001b[38;5;241m=\u001b[39mio\u001b[38;5;241m.\u001b[39mimread(\u001b[38;5;124m'\u001b[39m\u001b[38;5;124mimages-to-be-tested/cow.jpg\u001b[39m\u001b[38;5;124m'\u001b[39m)\n\u001b[0;32m      4\u001b[0m target_img_size \u001b[38;5;241m=\u001b[39m (\u001b[38;5;241m256\u001b[39m, \u001b[38;5;241m256\u001b[39m)\n",
      "File \u001b[1;32mc:\\Users\\Omar\\anaconda3\\envs\\nlp\\lib\\site-packages\\lazy_loader\\__init__.py:89\u001b[0m, in \u001b[0;36mattach.<locals>.__getattr__\u001b[1;34m(name)\u001b[0m\n\u001b[0;32m     87\u001b[0m     \u001b[38;5;28;01mreturn\u001b[39;00m attr\n\u001b[0;32m     88\u001b[0m \u001b[38;5;28;01melse\u001b[39;00m:\n\u001b[1;32m---> 89\u001b[0m     \u001b[38;5;28;01mraise\u001b[39;00m \u001b[38;5;167;01mAttributeError\u001b[39;00m(\u001b[38;5;124mf\u001b[39m\u001b[38;5;124m\"\u001b[39m\u001b[38;5;124mNo \u001b[39m\u001b[38;5;132;01m{\u001b[39;00mpackage_name\u001b[38;5;132;01m}\u001b[39;00m\u001b[38;5;124m attribute \u001b[39m\u001b[38;5;132;01m{\u001b[39;00mname\u001b[38;5;132;01m}\u001b[39;00m\u001b[38;5;124m\"\u001b[39m)\n",
      "\u001b[1;31mAttributeError\u001b[0m: No skimage attribute imread"
     ]
    }
   ],
   "source": [
    "cow_select=io.imread('images-to-be-tested/cow_with_selection.png')\n",
    "cow_orig=io.imread('images-to-be-tested/cow.jpg')\n",
    "\n",
    "target_img_size = (256, 256)\n",
    "\n",
    "cow_sel_resize = cv2.resize(cow_select, target_img_size)\n",
    "cow_sel_conversion = rgba2rgb(cow_sel_resize)\n",
    "cow_resized_orig = cv2.resize(cow_orig, target_img_size)\n",
    "\n",
    "\n",
    "# # Create an instance of the RegionDetection class\n",
    "region_detector_1 = RegionDetection(cow_resized_orig, cow_sel_conversion)\n",
    "region_mask, binary_mask_test=region_detector_1.get_mask_by_region_detection()"
   ]
  },
  {
   "cell_type": "code",
   "execution_count": 4,
   "metadata": {},
   "outputs": [],
   "source": [
    "def MSD(target_patch, exemplar_patch, M_bar):\n",
    "    msd=np.sum((M_bar*target_patch - M_bar*exemplar_patch)**2)/np.sum(M_bar)\n",
    "    return msd\n",
    "\n",
    "def SMD (target_patch, exemplar_patch, binary_mask, M_bar):\n",
    "    target_existing_avg= np.sum(M_bar * target_patch)/np.sum(M_bar)\n",
    "    exemplar_fill_avg = np.sum(binary_mask* exemplar_patch)/np.sum(binary_mask)\n",
    "    smd= (target_existing_avg-exemplar_fill_avg)**2\n",
    "    return smd \n",
    "\n",
    "def findBestsubPatch(target_patch, exemplar_patches, binary_mask, M_bar):\n",
    "    best_patch=None\n",
    "    min_combined_error= float('inf')\n",
    "    for current_patch,other_patch in zip(target_patch,exemplar_patches):\n",
    "        current_error=MSD(current_patch,other_patch,M_bar)+ SMD(current_patch,other_patch,binary_mask,M_bar)\n",
    "        if current_error < min_combined_error:\n",
    "            best_patch = other_patch\n",
    "    return best_patch\n",
    "\n",
    "def findBestFullPatch(target_patches, exemplar_patches,binary_mask_patches, M_bar_patches):\n",
    "    cp_target_patches = np.copy(target_patches)\n",
    "    for i,target_patch in enumerate(target_patches):\n",
    "        best_sub_patch=findBestsubPatch(target_patch,exemplar_patches,binary_mask_patches[i],M_bar_patches[i])\n",
    "        cp_target_patches[i][binary_mask_patches[i] == 1] = best_sub_patch[binary_mask_patches[i] == 1]\n",
    "    return cp_target_patches\n"
   ]
  },
  {
   "cell_type": "code",
   "execution_count": 5,
   "metadata": {},
   "outputs": [],
   "source": [
    "def main(img,binary_mask):\n",
    "    patch_size = 8\n",
    "    img_in_patches= [img[i:i+patch_size,j:j+patch_size] for i in range(0,img.shape[0],patch_size) for j in range(0,img.shape[1],patch_size) ]\n",
    "    full_binary_mask_patches = [binary_mask[i:i+patch_size,j:j+patch_size] for i in range(0,img.shape[0],patch_size) for j in range(0,img.shape[1],patch_size) ]\n",
    "    #if the patch contains a single 1 then it's subset of the target patch so mark it with 1 in the bit map\n",
    "    # bit_map=[ 1 if np.isin(1,full_binary_mask_patches[i]) else 0 for i in range(len(full_binary_mask_patches))]\n",
    "\n",
    "    target_indices=[]\n",
    "    exemplar_indices=[]\n",
    "    binary_mask_patches= []\n",
    "    target_patches=[]\n",
    "    exemplar_patches=[]\n",
    "    for i, binary_mask_patch in enumerate(full_binary_mask_patches):\n",
    "        start_row = ( i // img.shape[0] // patch_size) * patch_size\n",
    "        start_col = ( i % (img.shape[1] // patch_size)) * patch_size\n",
    "        if np.isin(1,binary_mask_patch):\n",
    "            # This means that it is a target patch\n",
    "            target_indices.append((i,start_row,start_col))\n",
    "            binary_mask_patches.append(full_binary_mask_patches[i])\n",
    "            target_patches.append(img_in_patches[i])\n",
    "            # binary_mask_patches.append(binary_mask[start_row:start_row+patch_size])\n",
    "\n",
    "        else:\n",
    "            exemplar_indices.append((i, start_row, start_col))\n",
    "            exemplar_patches.append(img_in_patches[i])\n",
    "\n",
    "\n",
    "    # M_bar_patches=[np.where((binary_mask_patches[i]==0)|(binary_mask_patches[i]==1), binary_mask_patches[i]^1, binary_mask_patches) for i in range(len(binary_mask_patches))]\n",
    "    M_bar_patches=[1-binary_mask_patches[i] for i in range(len(binary_mask_patches))]\n",
    "    #TO-DO: call implemented functions\n",
    "    new_target_patches=findBestFullPatch(target_patches,exemplar_patches,binary_mask_patches,M_bar_patches)\n",
    "\n",
    "    new_img= np.copy(img)\n",
    "    for target_index, start_row, start_col in target_indices:\n",
    "        new_img[start_row: start_row+patch_size, start_col:start_col+patch_size]=new_target_patches[target_index]\n",
    "    \n",
    "    return new_img\n",
    "\n",
    "    # list of tuples (i,start_row,start_col)\n",
    "    '''\n",
    "    for target_index, start_row, start_col in target_indices:\n",
    "        img[start_row:start_row+patch_size , start_col: start_col+patch_size]=cp_target_patches[target_index]\n",
    "        start_row = (i // (img.shape[0] // patch_size)) * patch_size\n",
    "        start_col = (i % (img.shape[1] // patch_size)) * patch_size\n",
    "    \n",
    "    '''\n",
    "\n",
    "\n"
   ]
  },
  {
   "cell_type": "code",
   "execution_count": 6,
   "metadata": {},
   "outputs": [
    {
     "name": "stderr",
     "output_type": "stream",
     "text": [
      "C:\\Users\\Habiba ElHussieny\\AppData\\Local\\Temp\\ipykernel_4540\\2647441226.py:2: RuntimeWarning: invalid value encountered in scalar divide\n",
      "  msd=np.sum((M_bar*target_patch - M_bar*exemplar_patch)**2)/np.sum(M_bar)\n",
      "C:\\Users\\Habiba ElHussieny\\AppData\\Local\\Temp\\ipykernel_4540\\2647441226.py:6: RuntimeWarning: invalid value encountered in scalar divide\n",
      "  target_existing_avg= np.sum(M_bar * target_patch)/np.sum(M_bar)\n"
     ]
    },
    {
     "ename": "TypeError",
     "evalue": "'NoneType' object is not subscriptable",
     "output_type": "error",
     "traceback": [
      "\u001b[1;31m---------------------------------------------------------------------------\u001b[0m",
      "\u001b[1;31mTypeError\u001b[0m                                 Traceback (most recent call last)",
      "\u001b[1;32m~\\AppData\\Local\\Temp\\ipykernel_4540\\607343730.py\u001b[0m in \u001b[0;36m<module>\u001b[1;34m\u001b[0m\n\u001b[0;32m      1\u001b[0m \u001b[0mgrayLevelImg\u001b[0m \u001b[1;33m=\u001b[0m \u001b[0mrgb2gray\u001b[0m\u001b[1;33m(\u001b[0m\u001b[0mcow_resized_orig\u001b[0m\u001b[1;33m)\u001b[0m\u001b[1;33m\u001b[0m\u001b[1;33m\u001b[0m\u001b[0m\n\u001b[1;32m----> 2\u001b[1;33m \u001b[0mnewImg\u001b[0m\u001b[1;33m=\u001b[0m \u001b[0mmain\u001b[0m\u001b[1;33m(\u001b[0m\u001b[0mgrayLevelImg\u001b[0m\u001b[1;33m,\u001b[0m\u001b[0mbinary_mask\u001b[0m\u001b[1;33m[\u001b[0m\u001b[1;33m:\u001b[0m\u001b[1;33m,\u001b[0m\u001b[1;33m:\u001b[0m\u001b[1;33m,\u001b[0m\u001b[1;36m0\u001b[0m\u001b[1;33m]\u001b[0m\u001b[1;33m)\u001b[0m\u001b[1;33m\u001b[0m\u001b[1;33m\u001b[0m\u001b[0m\n\u001b[0m\u001b[0;32m      3\u001b[0m \u001b[0mshow_images\u001b[0m\u001b[1;33m(\u001b[0m\u001b[1;33m[\u001b[0m\u001b[0mnewImg\u001b[0m\u001b[1;33m]\u001b[0m\u001b[1;33m)\u001b[0m\u001b[1;33m\u001b[0m\u001b[1;33m\u001b[0m\u001b[0m\n",
      "\u001b[1;32m~\\AppData\\Local\\Temp\\ipykernel_4540\\67779810.py\u001b[0m in \u001b[0;36mmain\u001b[1;34m(img, binary_mask)\u001b[0m\n\u001b[0;32m     29\u001b[0m     \u001b[0mM_bar_patches\u001b[0m\u001b[1;33m=\u001b[0m\u001b[1;33m[\u001b[0m\u001b[1;36m1\u001b[0m\u001b[1;33m-\u001b[0m\u001b[0mbinary_mask_patches\u001b[0m\u001b[1;33m[\u001b[0m\u001b[0mi\u001b[0m\u001b[1;33m]\u001b[0m \u001b[1;32mfor\u001b[0m \u001b[0mi\u001b[0m \u001b[1;32min\u001b[0m \u001b[0mrange\u001b[0m\u001b[1;33m(\u001b[0m\u001b[0mlen\u001b[0m\u001b[1;33m(\u001b[0m\u001b[0mbinary_mask_patches\u001b[0m\u001b[1;33m)\u001b[0m\u001b[1;33m)\u001b[0m\u001b[1;33m]\u001b[0m\u001b[1;33m\u001b[0m\u001b[1;33m\u001b[0m\u001b[0m\n\u001b[0;32m     30\u001b[0m     \u001b[1;31m#TO-DO: call implemented functions\u001b[0m\u001b[1;33m\u001b[0m\u001b[1;33m\u001b[0m\u001b[0m\n\u001b[1;32m---> 31\u001b[1;33m     \u001b[0mnew_target_patches\u001b[0m\u001b[1;33m=\u001b[0m\u001b[0mfindBestFullPatch\u001b[0m\u001b[1;33m(\u001b[0m\u001b[0mtarget_patches\u001b[0m\u001b[1;33m,\u001b[0m\u001b[0mexemplar_patches\u001b[0m\u001b[1;33m,\u001b[0m\u001b[0mbinary_mask_patches\u001b[0m\u001b[1;33m,\u001b[0m\u001b[0mM_bar_patches\u001b[0m\u001b[1;33m)\u001b[0m\u001b[1;33m\u001b[0m\u001b[1;33m\u001b[0m\u001b[0m\n\u001b[0m\u001b[0;32m     32\u001b[0m \u001b[1;33m\u001b[0m\u001b[0m\n\u001b[0;32m     33\u001b[0m     \u001b[0mnew_img\u001b[0m\u001b[1;33m=\u001b[0m \u001b[0mnp\u001b[0m\u001b[1;33m.\u001b[0m\u001b[0mcopy\u001b[0m\u001b[1;33m(\u001b[0m\u001b[0mimg\u001b[0m\u001b[1;33m)\u001b[0m\u001b[1;33m\u001b[0m\u001b[1;33m\u001b[0m\u001b[0m\n",
      "\u001b[1;32m~\\AppData\\Local\\Temp\\ipykernel_4540\\2647441226.py\u001b[0m in \u001b[0;36mfindBestFullPatch\u001b[1;34m(target_patches, exemplar_patches, binary_mask_patches, M_bar_patches)\u001b[0m\n\u001b[0;32m     22\u001b[0m     \u001b[1;32mfor\u001b[0m \u001b[0mi\u001b[0m\u001b[1;33m,\u001b[0m\u001b[0mtarget_patch\u001b[0m \u001b[1;32min\u001b[0m \u001b[0menumerate\u001b[0m\u001b[1;33m(\u001b[0m\u001b[0mtarget_patches\u001b[0m\u001b[1;33m)\u001b[0m\u001b[1;33m:\u001b[0m\u001b[1;33m\u001b[0m\u001b[1;33m\u001b[0m\u001b[0m\n\u001b[0;32m     23\u001b[0m         \u001b[0mbest_sub_patch\u001b[0m\u001b[1;33m=\u001b[0m\u001b[0mfindBestsubPatch\u001b[0m\u001b[1;33m(\u001b[0m\u001b[0mtarget_patch\u001b[0m\u001b[1;33m,\u001b[0m\u001b[0mexemplar_patches\u001b[0m\u001b[1;33m,\u001b[0m\u001b[0mbinary_mask_patches\u001b[0m\u001b[1;33m[\u001b[0m\u001b[0mi\u001b[0m\u001b[1;33m]\u001b[0m\u001b[1;33m,\u001b[0m\u001b[0mM_bar_patches\u001b[0m\u001b[1;33m[\u001b[0m\u001b[0mi\u001b[0m\u001b[1;33m]\u001b[0m\u001b[1;33m)\u001b[0m\u001b[1;33m\u001b[0m\u001b[1;33m\u001b[0m\u001b[0m\n\u001b[1;32m---> 24\u001b[1;33m         \u001b[0mcp_target_patches\u001b[0m\u001b[1;33m[\u001b[0m\u001b[0mi\u001b[0m\u001b[1;33m]\u001b[0m\u001b[1;33m[\u001b[0m\u001b[0mbinary_mask_patches\u001b[0m\u001b[1;33m[\u001b[0m\u001b[0mi\u001b[0m\u001b[1;33m]\u001b[0m \u001b[1;33m==\u001b[0m \u001b[1;36m1\u001b[0m\u001b[1;33m]\u001b[0m \u001b[1;33m=\u001b[0m \u001b[0mbest_sub_patch\u001b[0m\u001b[1;33m[\u001b[0m\u001b[0mbinary_mask_patches\u001b[0m\u001b[1;33m[\u001b[0m\u001b[0mi\u001b[0m\u001b[1;33m]\u001b[0m \u001b[1;33m==\u001b[0m \u001b[1;36m1\u001b[0m\u001b[1;33m]\u001b[0m\u001b[1;33m\u001b[0m\u001b[1;33m\u001b[0m\u001b[0m\n\u001b[0m\u001b[0;32m     25\u001b[0m     \u001b[1;32mreturn\u001b[0m \u001b[0mcp_target_patches\u001b[0m\u001b[1;33m\u001b[0m\u001b[1;33m\u001b[0m\u001b[0m\n",
      "\u001b[1;31mTypeError\u001b[0m: 'NoneType' object is not subscriptable"
     ]
    }
   ],
   "source": [
    "grayLevelImg = rgb2gray(cow_resized_orig)\n",
    "newImg= main(grayLevelImg,binary_mask[:,:,0])\n",
    "show_images([newImg])"
   ]
  }
 ],
 "metadata": {
  "kernelspec": {
   "display_name": "base",
   "language": "python",
   "name": "python3"
  },
  "language_info": {
   "codemirror_mode": {
    "name": "ipython",
    "version": 3
   },
   "file_extension": ".py",
   "mimetype": "text/x-python",
   "name": "python",
   "nbconvert_exporter": "python",
   "pygments_lexer": "ipython3",
   "version": "3.9.13"
  }
 },
 "nbformat": 4,
 "nbformat_minor": 2
}
