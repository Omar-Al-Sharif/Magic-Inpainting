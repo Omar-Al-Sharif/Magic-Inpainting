{
 "cells": [
  {
   "cell_type": "code",
   "execution_count": null,
   "metadata": {},
   "outputs": [],
   "source": [
    "import numpy as np"
   ]
  },
  {
   "cell_type": "code",
   "execution_count": null,
   "metadata": {},
   "outputs": [],
   "source": [
    "def MSD(target_patch, exemplar_patch, M_bar):\n",
    "    msd=np.sum((M_bar*target_patch - M_bar*exemplar_patch)**2)/np.sum(M_bar)\n",
    "    return msd\n",
    "\n",
    "def SMD (target_patch, exemplar_patch, binary_mask, M_bar):\n",
    "    target_existing_avg= np.sum(M_bar * target_patch)/np.sum(M_bar)\n",
    "    exemplar_fill_avg = np.sum(binary_mask* exemplar_patch)/np.sum(binary_mask)\n",
    "    smd= (target_existing_avg-exemplar_fill_avg)**2\n",
    "    return smd \n",
    "\n",
    "def findBestsubPatch(target_patch, exemplar_patches, binary_mask, M_bar):\n",
    "    best_patch=None\n",
    "    min_combined_error= float('inf')\n",
    "    for current_patch,other_patch in zip(target_patch,exemplar_patches):\n",
    "        current_error=MSD(current_patch,other_patch,M_bar)+ SMD(current_patch,other_patch,binary_mask,M_bar)\n",
    "        if current_error < min_combined_error:\n",
    "            best_patch = other_patch\n",
    "    return best_patch\n",
    "\n",
    "def findBestFullPatch(target_patches, exemplar_patches,binary_mask_patches, M_bar_patches):\n",
    "    cp_target_patches = np.copy(target_patches)\n",
    "    for i,target_patch in enumerate(target_patches):\n",
    "        best_sub_patch=findBestsubPatch(target_patch,exemplar_patches,binary_mask_patches[i],M_bar_patches[i])\n",
    "        cp_target_patches[i]=best_sub_patch[binary_mask_patches[i]*best_sub_patch]\n",
    "    return cp_target_patches\n"
   ]
  },
  {
   "cell_type": "code",
   "execution_count": null,
   "metadata": {},
   "outputs": [],
   "source": [
    "def main(img,binary_mask):\n",
    "    patch_size = 8\n",
    "    img_in_patches= [img[i:i+patch_size,j:j+patch_size] for i in range(0,img.shape[0],patch_size) for j in range(0,img.shape[1],patch_size) ]\n",
    "    full_binary_mask_patches = [binary_mask[i:i+patch_size,j:j+patch_size] for i in range(0,img.shape[0],patch_size) for j in range(0,img.shape[1],patch_size) ]\n",
    "    #if the patch contains a single 1 then it's subset of the target patch so mark it with 1 in the bit map\n",
    "    bit_map=[ 1 if np.isin(1,full_binary_mask_patches[i]) else 0 for i in range(len(full_binary_mask_patches))] \n",
    "    binary_mask_patches= []\n",
    "    target_patches=[]\n",
    "    exemplar_patches=[]\n",
    "    for i in range(len(bit_map)):\n",
    "        if bit_map[i] == 1:\n",
    "            binary_mask_patches.append(full_binary_mask_patches[i])\n",
    "            target_patches.append(img_in_patches[i])\n",
    "        else:\n",
    "            exemplar_patches.append(img_in_patches[i])\n",
    "    M_bar_patches=np.where((binary_mask_patches==0)|(binary_mask_patches==1), binary_mask_patches^1, binary_mask_patches)\n",
    "    #TO-DO: call implemented functions"
   ]
  }
 ],
 "metadata": {
  "language_info": {
   "name": "python"
  }
 },
 "nbformat": 4,
 "nbformat_minor": 2
}
